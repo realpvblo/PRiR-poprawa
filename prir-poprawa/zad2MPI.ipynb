{
  "cells": [
    {
      "cell_type": "code",
      "execution_count": 4,
      "metadata": {
        "colab": {
          "base_uri": "https://localhost:8080/"
        },
        "id": "IEHXw35Y5-TC",
        "outputId": "b312a3ef-8cf0-4014-8a0f-d4ebcfc76b00"
      },
      "outputs": [
        {
          "name": "stdout",
          "output_type": "stream",
          "text": [
            "Proces 0: Suma: 55 Srednia: 5.50\n",
            "Proces 0: Suma calkowita: 55 Srednia calkowita: 0.55\n"
          ]
        }
      ],
      "source": [
        "%%sh\n",
        "cat > pi-mpi.c << EOF\n",
        "#include <stdio.h>\n",
        "#include <mpi.h>\n",
        "\n",
        "int main(int argc, char *argv[]) {\n",
        "    int rank, size;\n",
        "    MPI_Init(&argc, &argv);\n",
        "    MPI_Comm_rank(MPI_COMM_WORLD, &rank);\n",
        "    MPI_Comm_size(MPI_COMM_WORLD, &size);\n",
        "\n",
        "    int start = rank * 10 + 1;\n",
        "    int end = (rank + 1) * 10 + 1;\n",
        "    int sum = 0;\n",
        "    for (int i = start; i < end; i++) {\n",
        "        sum += i;\n",
        "    }\n",
        "    double average = (double) sum / (end - start);\n",
        "    printf(\"Proces %d: Suma: %d Srednia: %.2f\\n\", rank, sum, average);\n",
        "\n",
        "    int total_sum;\n",
        "    if (rank == size - 1) {\n",
        "        total_sum = sum;\n",
        "        for (int i = 0; i < size - 1; i++) {\n",
        "            int part_sum;\n",
        "            MPI_Recv(&part_sum, 1, MPI_INT, i, 0, MPI_COMM_WORLD, MPI_STATUS_IGNORE);\n",
        "            total_sum += part_sum;\n",
        "        }\n",
        "        printf(\"Proces %d: Suma calkowita: %d Srednia calkowita: %.2f\\n\", rank, total_sum, (double) total_sum / 100);\n",
        "    } else {\n",
        "        MPI_Send(&sum, 1, MPI_INT, size - 1, 0, MPI_COMM_WORLD);\n",
        "    }\n",
        "\n",
        "    MPI_Finalize();\n",
        "    return 0;\n",
        "}\n",
        "EOF\n",
        "\n",
        "mpicc pi-mpi.c && mpirun -n 1 --allow-run-as-root a.out "
      ]
    }
  ],
  "metadata": {
    "colab": {
      "provenance": []
    },
    "kernelspec": {
      "display_name": "Python 3",
      "language": "python",
      "name": "python3"
    },
    "language_info": {
      "name": "python",
      "version": "3.10.8"
    },
    "vscode": {
      "interpreter": {
        "hash": "aee8b7b246df8f9039afb4144a1f6fd8d2ca17a180786b69acc140d282b71a49"
      }
    }
  },
  "nbformat": 4,
  "nbformat_minor": 0
}
